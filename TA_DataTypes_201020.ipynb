{
  "nbformat": 4,
  "nbformat_minor": 0,
  "metadata": {
    "colab": {
      "name": "TA_DataTypes_201020.ipynb",
      "provenance": [],
      "authorship_tag": "ABX9TyMVw6mcJ6cn7CAAy8lM4wXP",
      "include_colab_link": true
    },
    "kernelspec": {
      "name": "python3",
      "display_name": "Python 3"
    }
  },
  "cells": [
    {
      "cell_type": "markdown",
      "metadata": {
        "id": "view-in-github",
        "colab_type": "text"
      },
      "source": [
        "<a href=\"https://colab.research.google.com/github/tanahmed2012/Coursera_Capstone/blob/master/TA_DataTypes_201020.ipynb\" target=\"_parent\"><img src=\"https://colab.research.google.com/assets/colab-badge.svg\" alt=\"Open In Colab\"/></a>"
      ]
    },
    {
      "cell_type": "markdown",
      "metadata": {
        "id": "kjqH2JLO5Iqq"
      },
      "source": [
        "Print Functions are used to print information within the qoute mark. Let's have some examples,"
      ]
    },
    {
      "cell_type": "code",
      "metadata": {
        "id": "OOWEKjxH3UYD",
        "outputId": "dd996f87-674c-4a08-e814-2ada3fa0c37f",
        "colab": {
          "base_uri": "https://localhost:8080/",
          "height": 34
        }
      },
      "source": [
        "print('Tanvir')"
      ],
      "execution_count": null,
      "outputs": [
        {
          "output_type": "stream",
          "text": [
            "Tanvir\n"
          ],
          "name": "stdout"
        }
      ]
    },
    {
      "cell_type": "code",
      "metadata": {
        "id": "ExUsh2xz3dEo",
        "outputId": "5a568829-db7e-43ae-d48d-30a7a019a478",
        "colab": {
          "base_uri": "https://localhost:8080/",
          "height": 34
        }
      },
      "source": [
        "print('Tanvir'+'Ahmed')"
      ],
      "execution_count": null,
      "outputs": [
        {
          "output_type": "stream",
          "text": [
            "TanvirAhmed\n"
          ],
          "name": "stdout"
        }
      ]
    },
    {
      "cell_type": "markdown",
      "metadata": {
        "id": "yR3bAMBp5ZBm"
      },
      "source": [
        "String multiplication. Multiple 'Tanvir' string by 3 (three)"
      ]
    },
    {
      "cell_type": "code",
      "metadata": {
        "id": "bqt6B61M4gLN",
        "outputId": "6da6927a-aec8-48a2-b07d-21e56055ad7c",
        "colab": {
          "base_uri": "https://localhost:8080/",
          "height": 34
        }
      },
      "source": [
        "print('Tanvir'*3)"
      ],
      "execution_count": null,
      "outputs": [
        {
          "output_type": "stream",
          "text": [
            "TanvirTanvirTanvir\n"
          ],
          "name": "stdout"
        }
      ]
    },
    {
      "cell_type": "code",
      "metadata": {
        "id": "MNFMUKfb4iOV",
        "outputId": "85e34429-02af-4877-94f3-efb8ed6082b4",
        "colab": {
          "base_uri": "https://localhost:8080/",
          "height": 34
        }
      },
      "source": [
        "print('='*5)"
      ],
      "execution_count": null,
      "outputs": [
        {
          "output_type": "stream",
          "text": [
            "=====\n"
          ],
          "name": "stdout"
        }
      ]
    },
    {
      "cell_type": "markdown",
      "metadata": {
        "id": "TntXiX9F8QhK"
      },
      "source": [
        "Length of string"
      ]
    },
    {
      "cell_type": "code",
      "metadata": {
        "id": "-MUKc7Qb4kpe",
        "outputId": "d355e2de-61e8-4e2b-b143-8fad9e19df1e",
        "colab": {
          "base_uri": "https://localhost:8080/",
          "height": 34
        }
      },
      "source": [
        "print(len('Tanvir'))"
      ],
      "execution_count": null,
      "outputs": [
        {
          "output_type": "stream",
          "text": [
            "6\n"
          ],
          "name": "stdout"
        }
      ]
    },
    {
      "cell_type": "code",
      "metadata": {
        "id": "QIGVF4K84paW"
      },
      "source": [
        ""
      ],
      "execution_count": null,
      "outputs": []
    }
  ]
}